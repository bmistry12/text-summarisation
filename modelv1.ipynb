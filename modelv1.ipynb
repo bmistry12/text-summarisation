{
  "nbformat": 4,
  "nbformat_minor": 0,
  "metadata": {
    "colab": {
      "name": "projectv3",
      "provenance": [],
      "collapsed_sections": []
    },
    "kernelspec": {
      "name": "python3",
      "display_name": "Python 3"
    },
    "accelerator": "GPU"
  },
  "cells": [
    {
      "cell_type": "code",
      "metadata": {
        "id": "3814CBEDMGWD",
        "colab_type": "code",
        "colab": {}
      },
      "source": [
        "import numpy as np\n",
        "import pandas as pd \n",
        "import re\n",
        "from keras.preprocessing.text import Tokenizer \n",
        "from keras.preprocessing.sequence import pad_sequences\n",
        "from nltk.corpus import stopwords\n",
        "from keras.layers import Input, LSTM, Embedding, Dense, Concatenate, TimeDistributed\n",
        "from tensorflow.keras.layers import Attention\n",
        "from keras.models import Model\n",
        "from keras.callbacks import EarlyStopping\n",
        "import warnings\n",
        "import matplotlib.pyplot as plt\n",
        "from keras.preprocessing.text import Tokenizer \n",
        "from keras.preprocessing.sequence import pad_sequences\n",
        "from sklearn.model_selection import train_test_split"
      ],
      "execution_count": 0,
      "outputs": []
    },
    {
      "cell_type": "code",
      "metadata": {
        "id": "SltBzhFNkBFB",
        "colab_type": "code",
        "colab": {}
      },
      "source": [
        "BATCH_SIZE=64\n",
        "EPOCHS=50\n",
        "latent_dim = 50\n",
        "embedding_dim=450"
      ],
      "execution_count": 0,
      "outputs": []
    },
    {
      "cell_type": "code",
      "metadata": {
        "id": "cP41uqf_MiQL",
        "colab_type": "code",
        "outputId": "f7bfcfae-ea7c-4627-e1f5-178733aec273",
        "colab": {
          "base_uri": "https://localhost:8080/",
          "height": 141
        }
      },
      "source": [
        "df = pd.read_csv('./data0.csv')\n",
        "df.head(1)"
      ],
      "execution_count": 238,
      "outputs": [
        {
          "output_type": "execute_result",
          "data": {
            "text/html": [
              "<div>\n",
              "<style scoped>\n",
              "    .dataframe tbody tr th:only-of-type {\n",
              "        vertical-align: middle;\n",
              "    }\n",
              "\n",
              "    .dataframe tbody tr th {\n",
              "        vertical-align: top;\n",
              "    }\n",
              "\n",
              "    .dataframe thead th {\n",
              "        text-align: right;\n",
              "    }\n",
              "</style>\n",
              "<table border=\"1\" class=\"dataframe\">\n",
              "  <thead>\n",
              "    <tr style=\"text-align: right;\">\n",
              "      <th></th>\n",
              "      <th>Unnamed: 0</th>\n",
              "      <th>file</th>\n",
              "      <th>text</th>\n",
              "      <th>summary</th>\n",
              "    </tr>\n",
              "  </thead>\n",
              "  <tbody>\n",
              "    <tr>\n",
              "      <th>0</th>\n",
              "      <td>0</td>\n",
              "      <td>0002c17436637c4fe1837c935c04de47adb18e9a.story</td>\n",
              "      <td>Los Angeles A medical doctor Vancouver British...</td>\n",
              "      <td>NEW A Canadian doctor says she was part of a t...</td>\n",
              "    </tr>\n",
              "  </tbody>\n",
              "</table>\n",
              "</div>"
            ],
            "text/plain": [
              "   Unnamed: 0  ...                                            summary\n",
              "0           0  ...  NEW A Canadian doctor says she was part of a t...\n",
              "\n",
              "[1 rows x 4 columns]"
            ]
          },
          "metadata": {
            "tags": []
          },
          "execution_count": 238
        }
      ]
    },
    {
      "cell_type": "code",
      "metadata": {
        "id": "7G_ytIi8Mo0R",
        "colab_type": "code",
        "outputId": "7797407f-9f68-4119-8d64-5d7f0b9dd195",
        "colab": {
          "base_uri": "https://localhost:8080/",
          "height": 281
        }
      },
      "source": [
        "text_word_count = []\n",
        "summary_word_count = []\n",
        "\n",
        "# populate the lists with sentence lengths\n",
        "for i in df['text']:\n",
        "      text_word_count.append(len(i.split(' ')))\n",
        "\n",
        "for i in df['summary']:\n",
        "      summary_word_count.append(len(i.split(' ')))\n",
        "\n",
        "length_df = pd.DataFrame({'text':text_word_count, 'summary':summary_word_count})\n",
        "\n",
        "length_df.hist(bins = 30)\n",
        "plt.show()"
      ],
      "execution_count": 239,
      "outputs": [
        {
          "output_type": "display_data",
          "data": {
            "image/png": "[encoded data removed]",
            "text/plain": [
              "<Figure size 432x288 with 2 Axes>"
            ]
          },
          "metadata": {
            "tags": []
          }
        }
      ]
    },
    {
      "cell_type": "code",
      "metadata": {
        "id": "gion9JsaNa32",
        "colab_type": "code",
        "outputId": "00710c67-c4b3-4c91-ccd7-6446a80b7eab",
        "colab": {
          "base_uri": "https://localhost:8080/",
          "height": 33
        }
      },
      "source": [
        "cnt=0\n",
        "for i in df['summary']:\n",
        "    if(len(i.split())<=60):\n",
        "        cnt=cnt+1\n",
        "print(cnt/len(df['summary']))"
      ],
      "execution_count": 240,
      "outputs": [
        {
          "output_type": "stream",
          "text": [
            "0.9777195281782438\n"
          ],
          "name": "stdout"
        }
      ]
    },
    {
      "cell_type": "code",
      "metadata": {
        "colab_type": "code",
        "outputId": "e683d105-5443-4e57-f208-91829aa02b64",
        "id": "ZRV4cD1ONogl",
        "colab": {
          "base_uri": "https://localhost:8080/",
          "height": 33
        }
      },
      "source": [
        "cnt=0\n",
        "for i in df['text']:\n",
        "    if(len(i.split())<=600):\n",
        "        cnt=cnt+1\n",
        "print(cnt/len(df['text']))"
      ],
      "execution_count": 241,
      "outputs": [
        {
          "output_type": "stream",
          "text": [
            "0.8401048492791612\n"
          ],
          "name": "stdout"
        }
      ]
    },
    {
      "cell_type": "code",
      "metadata": {
        "id": "b-4Sq9mJNyCG",
        "colab_type": "code",
        "colab": {}
      },
      "source": [
        "max_text_len=600\n",
        "max_summary_len=60"
      ],
      "execution_count": 0,
      "outputs": []
    },
    {
      "cell_type": "code",
      "metadata": {
        "id": "c_ZKSCTyOFss",
        "colab_type": "code",
        "outputId": "706204ea-5ead-4ac7-c441-b4a4062fd93f",
        "colab": {
          "base_uri": "https://localhost:8080/",
          "height": 82
        }
      },
      "source": [
        "x_tr,x_val,y_tr,y_val=train_test_split(np.array(df['text']),np.array(df['summary']),test_size=0.2,random_state=0,shuffle=True)\n",
        "print(x_tr.shape)\n",
        "print(x_val.shape)\n",
        "print(y_tr.shape)\n",
        "print(y_val.shape)"
      ],
      "execution_count": 243,
      "outputs": [
        {
          "output_type": "stream",
          "text": [
            "(610,)\n",
            "(153,)\n",
            "(610,)\n",
            "(153,)\n"
          ],
          "name": "stdout"
        }
      ]
    },
    {
      "cell_type": "code",
      "metadata": {
        "id": "vqDINa0yOpwB",
        "colab_type": "code",
        "colab": {}
      },
      "source": [
        "#prepare a tokenizer for reviews on training data\n",
        "x_tokenizer = Tokenizer() \n",
        "x_tokenizer.fit_on_texts(list(x_tr))"
      ],
      "execution_count": 0,
      "outputs": []
    },
    {
      "cell_type": "code",
      "metadata": {
        "id": "nUGjd9NiOYS3",
        "colab_type": "code",
        "outputId": "01933371-b806-4e57-b291-209ab393a647",
        "colab": {
          "base_uri": "https://localhost:8080/",
          "height": 50
        }
      },
      "source": [
        "thresh=3\n",
        "\n",
        "cnt=0\n",
        "tot_cnt=0\n",
        "freq=0\n",
        "tot_freq=0\n",
        "\n",
        "for key,value in x_tokenizer.word_counts.items():\n",
        "    tot_cnt=tot_cnt+1\n",
        "    tot_freq=tot_freq+value\n",
        "    if(value<thresh):\n",
        "        cnt=cnt+1\n",
        "        freq=freq+value\n",
        "    \n",
        "print(\"% of rare words in vocabulary:\",(cnt/tot_cnt)*100)\n",
        "print(\"Total Coverage of rare words:\",(freq/tot_freq)*100)"
      ],
      "execution_count": 245,
      "outputs": [
        {
          "output_type": "stream",
          "text": [
            "% of rare words in vocabulary: 59.857281594392596\n",
            "Total Coverage of rare words: 7.242643456677227\n"
          ],
          "name": "stdout"
        }
      ]
    },
    {
      "cell_type": "code",
      "metadata": {
        "id": "RgI_aoWjOJC8",
        "colab_type": "code",
        "outputId": "c78e520e-18d7-4225-c660-fcdf636931d5",
        "colab": {
          "base_uri": "https://localhost:8080/",
          "height": 33
        }
      },
      "source": [
        "#prepare a tokenizer for reviews on training data\n",
        "x_tokenizer = Tokenizer(num_words=tot_cnt) \n",
        "x_tokenizer.fit_on_texts(list(x_tr))\n",
        "\n",
        "#convert text sequences into integer sequences\n",
        "x_tr_seq    =   x_tokenizer.texts_to_sequences(x_tr) \n",
        "x_val_seq   =   x_tokenizer.texts_to_sequences(x_val)\n",
        "\n",
        "#padding zero upto maximum length\n",
        "x_tr    =   pad_sequences(x_tr_seq,  maxlen=max_text_len, padding='post')\n",
        "x_val   =   pad_sequences(x_val_seq, maxlen=max_text_len, padding='post')\n",
        "\n",
        "#size of vocabulary ( +1 for padding token)\n",
        "x_voc   =  x_tokenizer.num_words + 1\n",
        "print(x_voc)"
      ],
      "execution_count": 246,
      "outputs": [
        {
          "output_type": "stream",
          "text": [
            "23684\n"
          ],
          "name": "stdout"
        }
      ]
    },
    {
      "cell_type": "code",
      "metadata": {
        "id": "H7cdORwjOy6l",
        "colab_type": "code",
        "colab": {}
      },
      "source": [
        "#prepare a tokenizer for reviews on training data\n",
        "y_tokenizer = Tokenizer()   \n",
        "y_tokenizer.fit_on_texts(list(y_tr))"
      ],
      "execution_count": 0,
      "outputs": []
    },
    {
      "cell_type": "code",
      "metadata": {
        "id": "oSdu2pHCOk5s",
        "colab_type": "code",
        "outputId": "b4c6b7f8-c07b-4228-9e33-e1b8997c30b7",
        "colab": {
          "base_uri": "https://localhost:8080/",
          "height": 50
        }
      },
      "source": [
        "thresh=2\n",
        "\n",
        "cnt=0\n",
        "tot_cnt=0\n",
        "freq=0\n",
        "tot_freq=0\n",
        "\n",
        "for key,value in y_tokenizer.word_counts.items():\n",
        "    tot_cnt=tot_cnt+1\n",
        "    tot_freq=tot_freq+value\n",
        "    if(value<thresh):\n",
        "        cnt=cnt+1\n",
        "        freq=freq+value\n",
        "    \n",
        "print(\"% of rare words in vocabulary:\",(cnt/tot_cnt)*100)\n",
        "print(\"Total Coverage of rare words:\",(freq/tot_freq)*100)"
      ],
      "execution_count": 248,
      "outputs": [
        {
          "output_type": "stream",
          "text": [
            "% of rare words in vocabulary: 57.39552132363429\n",
            "Total Coverage of rare words: 15.411129409061314\n"
          ],
          "name": "stdout"
        }
      ]
    },
    {
      "cell_type": "code",
      "metadata": {
        "id": "L8B5C4G3O2JF",
        "colab_type": "code",
        "outputId": "141802da-fc04-43ad-9759-c6080ddeff38",
        "colab": {
          "base_uri": "https://localhost:8080/",
          "height": 33
        }
      },
      "source": [
        "#prepare a tokenizer for reviews on training data\n",
        "y_tokenizer = Tokenizer(num_words=tot_cnt) \n",
        "y_tokenizer.fit_on_texts(list(y_tr))\n",
        "\n",
        "#convert text sequences into integer sequences\n",
        "y_tr_seq    =   y_tokenizer.texts_to_sequences(y_tr) \n",
        "y_val_seq   =   y_tokenizer.texts_to_sequences(y_val) \n",
        "\n",
        "#padding zero upto maximum length\n",
        "y_tr    =   pad_sequences(y_tr_seq, maxlen=max_summary_len, padding='post')\n",
        "y_val   =   pad_sequences(y_val_seq, maxlen=max_summary_len, padding='post')\n",
        "\n",
        "#size of vocabulary\n",
        "y_voc  =   y_tokenizer.num_words +1\n",
        "print(y_voc)"
      ],
      "execution_count": 249,
      "outputs": [
        {
          "output_type": "stream",
          "text": [
            "7012\n"
          ],
          "name": "stdout"
        }
      ]
    },
    {
      "cell_type": "code",
      "metadata": {
        "id": "KoKBhvy8Pst3",
        "colab_type": "code",
        "outputId": "415ba64a-8e11-46f3-9eed-9b54a937292a",
        "colab": {
          "base_uri": "https://localhost:8080/",
          "height": 427
        }
      },
      "source": [
        "# Encoder\n",
        "encoder_inputs = Input(shape=(None,))\n",
        "#embedding layer\n",
        "enc_emb =  Embedding(x_voc, embedding_dim,trainable=True)(encoder_inputs)\n",
        "#encoder lstm 1\n",
        "encoder_lstm1 = LSTM(latent_dim,return_sequences=True,return_state=True)\n",
        "encoder_outputs, state_h, state_c = encoder_lstm1(enc_emb)\n",
        "\n",
        "# Set up the decoder, using `encoder_states` as initial state.\n",
        "decoder_inputs = Input(shape=(None,))\n",
        "\n",
        "#embedding layer\n",
        "dec_emb_layer = Embedding(y_voc, embedding_dim,trainable=True)\n",
        "dec_emb = dec_emb_layer(decoder_inputs)\n",
        "\n",
        "decoder_lstm = LSTM(latent_dim, return_sequences=True, return_state=True,dropout=0.4,recurrent_dropout=0.2)\n",
        "decoder_outputs,decoder_fwd_state, decoder_back_state = decoder_lstm(dec_emb,initial_state=[state_h, state_c])\n",
        "                                                          \n",
        "#dense layer\n",
        "decoder_dense = Dense(y_voc, activation='softmax')\n",
        "# decoder_dense = Dense(y_voc, activation='softmax')\n",
        "decoder_outputs = decoder_dense(decoder_outputs)\n",
        "\n",
        "# Define the model \n",
        "model = Model([encoder_inputs, decoder_inputs], decoder_outputs)\n",
        "\n",
        "model.summary()"
      ],
      "execution_count": 250,
      "outputs": [
        {
          "output_type": "stream",
          "text": [
            "Model: \"model_39\"\n",
            "__________________________________________________________________________________________________\n",
            "Layer (type)                    Output Shape         Param #     Connected to                     \n",
            "==================================================================================================\n",
            "input_71 (InputLayer)           (None, None)         0                                            \n",
            "__________________________________________________________________________________________________\n",
            "input_72 (InputLayer)           (None, None)         0                                            \n",
            "__________________________________________________________________________________________________\n",
            "embedding_39 (Embedding)        (None, None, 450)    10657800    input_71[0][0]                   \n",
            "__________________________________________________________________________________________________\n",
            "embedding_40 (Embedding)        (None, None, 450)    3155400     input_72[0][0]                   \n",
            "__________________________________________________________________________________________________\n",
            "lstm_43 (LSTM)                  [(None, None, 50), ( 100200      embedding_39[0][0]               \n",
            "__________________________________________________________________________________________________\n",
            "lstm_44 (LSTM)                  [(None, None, 50), ( 100200      embedding_40[0][0]               \n",
            "                                                                 lstm_43[0][1]                    \n",
            "                                                                 lstm_43[0][2]                    \n",
            "__________________________________________________________________________________________________\n",
            "dense_19 (Dense)                (None, None, 7012)   357612      lstm_44[0][0]                    \n",
            "==================================================================================================\n",
            "Total params: 14,371,212\n",
            "Trainable params: 14,371,212\n",
            "Non-trainable params: 0\n",
            "__________________________________________________________________________________________________\n"
          ],
          "name": "stdout"
        }
      ]
    },
    {
      "cell_type": "code",
      "metadata": {
        "id": "5tnk6l_BRKsD",
        "colab_type": "code",
        "colab": {}
      },
      "source": [
        "model.compile(optimizer='rmsprop', loss='sparse_categorical_crossentropy')"
      ],
      "execution_count": 0,
      "outputs": []
    },
    {
      "cell_type": "code",
      "metadata": {
        "id": "TfWjhzmcRMg3",
        "colab_type": "code",
        "colab": {}
      },
      "source": [
        "# es = EarlyStopping(monitor='val_loss', mode='min', verbose=1,patience=2)"
      ],
      "execution_count": 0,
      "outputs": []
    },
    {
      "cell_type": "code",
      "metadata": {
        "id": "m1EHMElMeY61",
        "colab_type": "code",
        "outputId": "915ad9e7-a9c2-426e-d920-499ceb04adc0",
        "colab": {
          "base_uri": "https://localhost:8080/",
          "height": 1000
        }
      },
      "source": [
        "history=model.fit([x_tr,y_tr[:,:-1]], y_tr.reshape(y_tr.shape[0],y_tr.shape[1], 1)[:,1:] ,epochs=EPOCHS, batch_size=BATCH_SIZE, validation_data=([x_val,y_val[:,:-1]], y_val.reshape(y_val.shape[0],y_val.shape[1], 1)[:,1:]))"
      ],
      "execution_count": 253,
      "outputs": [
        {
          "output_type": "stream",
          "text": [
            "Train on 610 samples, validate on 153 samples\n",
            "Epoch 1/50\n",
            "610/610 [==============================] - 21s 35ms/step - loss: 8.6195 - val_loss: 7.7394\n",
            "Epoch 2/50\n",
            "610/610 [==============================] - 14s 23ms/step - loss: 7.6354 - val_loss: 6.7307\n",
            "Epoch 3/50\n",
            "610/610 [==============================] - 15s 24ms/step - loss: 7.0131 - val_loss: 6.1771\n",
            "Epoch 4/50\n",
            "610/610 [==============================] - 14s 23ms/step - loss: 6.6564 - val_loss: 5.7967\n",
            "Epoch 5/50\n",
            "610/610 [==============================] - 14s 23ms/step - loss: 6.4080 - val_loss: 5.4946\n",
            "Epoch 6/50\n",
            "610/610 [==============================] - 14s 23ms/step - loss: 6.2168 - val_loss: 5.2405\n",
            "Epoch 7/50\n",
            "610/610 [==============================] - 14s 23ms/step - loss: 6.0605 - val_loss: 5.0248\n",
            "Epoch 8/50\n",
            "610/610 [==============================] - 14s 23ms/step - loss: 5.9259 - val_loss: 4.8458\n",
            "Epoch 9/50\n",
            "610/610 [==============================] - 15s 24ms/step - loss: 5.8031 - val_loss: 4.6959\n",
            "Epoch 10/50\n",
            "610/610 [==============================] - 14s 23ms/step - loss: 5.6917 - val_loss: 4.5704\n",
            "Epoch 11/50\n",
            "610/610 [==============================] - 14s 23ms/step - loss: 5.5988 - val_loss: 4.4706\n",
            "Epoch 12/50\n",
            "610/610 [==============================] - 14s 23ms/step - loss: 5.5219 - val_loss: 4.3869\n",
            "Epoch 13/50\n",
            "610/610 [==============================] - 14s 23ms/step - loss: 5.4585 - val_loss: 4.3247\n",
            "Epoch 14/50\n",
            "610/610 [==============================] - 14s 23ms/step - loss: 5.4036 - val_loss: 4.2742\n",
            "Epoch 15/50\n",
            "610/610 [==============================] - 14s 23ms/step - loss: 5.3558 - val_loss: 4.2275\n",
            "Epoch 16/50\n",
            "610/610 [==============================] - 14s 23ms/step - loss: 5.3130 - val_loss: 4.1839\n",
            "Epoch 17/50\n",
            "610/610 [==============================] - 14s 23ms/step - loss: 5.2757 - val_loss: 4.1612\n",
            "Epoch 18/50\n",
            "610/610 [==============================] - 14s 23ms/step - loss: 5.2438 - val_loss: 4.1416\n",
            "Epoch 19/50\n",
            "610/610 [==============================] - 14s 23ms/step - loss: 5.2158 - val_loss: 4.1309\n",
            "Epoch 20/50\n",
            "610/610 [==============================] - 14s 23ms/step - loss: 5.1899 - val_loss: 4.1030\n",
            "Epoch 21/50\n",
            "610/610 [==============================] - 14s 23ms/step - loss: 5.1674 - val_loss: 4.1066\n",
            "Epoch 22/50\n",
            "610/610 [==============================] - 14s 23ms/step - loss: 5.1473 - val_loss: 4.0967\n",
            "Epoch 23/50\n",
            "610/610 [==============================] - 14s 23ms/step - loss: 5.1292 - val_loss: 4.0876\n",
            "Epoch 24/50\n",
            "610/610 [==============================] - 14s 23ms/step - loss: 5.1118 - val_loss: 4.0832\n",
            "Epoch 25/50\n",
            "610/610 [==============================] - 14s 23ms/step - loss: 5.0951 - val_loss: 4.0711\n",
            "Epoch 26/50\n",
            "610/610 [==============================] - 14s 23ms/step - loss: 5.0793 - val_loss: 4.0696\n",
            "Epoch 27/50\n",
            "610/610 [==============================] - 14s 23ms/step - loss: 5.0643 - val_loss: 4.0772\n",
            "Epoch 28/50\n",
            "610/610 [==============================] - 14s 23ms/step - loss: 5.0496 - val_loss: 4.0757\n",
            "Epoch 29/50\n",
            "610/610 [==============================] - 14s 23ms/step - loss: 5.0333 - val_loss: 4.0803\n",
            "Epoch 30/50\n",
            "610/610 [==============================] - 14s 23ms/step - loss: 5.0202 - val_loss: 4.0810\n",
            "Epoch 31/50\n",
            "610/610 [==============================] - 14s 24ms/step - loss: 5.0050 - val_loss: 4.0750\n",
            "Epoch 32/50\n",
            "610/610 [==============================] - 14s 23ms/step - loss: 4.9911 - val_loss: 4.0679\n",
            "Epoch 33/50\n",
            "610/610 [==============================] - 14s 23ms/step - loss: 4.9766 - val_loss: 4.0700\n",
            "Epoch 34/50\n",
            "610/610 [==============================] - 14s 23ms/step - loss: 4.9627 - val_loss: 4.0703\n",
            "Epoch 35/50\n",
            "610/610 [==============================] - 14s 23ms/step - loss: 4.9487 - val_loss: 4.0769\n",
            "Epoch 36/50\n",
            "610/610 [==============================] - 14s 23ms/step - loss: 4.9346 - val_loss: 4.0747\n",
            "Epoch 37/50\n",
            "610/610 [==============================] - 14s 23ms/step - loss: 4.9203 - val_loss: 4.0664\n",
            "Epoch 38/50\n",
            "610/610 [==============================] - 14s 23ms/step - loss: 4.9064 - val_loss: 4.0876\n",
            "Epoch 39/50\n",
            "610/610 [==============================] - 14s 23ms/step - loss: 4.8920 - val_loss: 4.0750\n",
            "Epoch 40/50\n",
            "610/610 [==============================] - 14s 23ms/step - loss: 4.8752 - val_loss: 4.1004\n",
            "Epoch 41/50\n",
            "610/610 [==============================] - 14s 23ms/step - loss: 4.8607 - val_loss: 4.0905\n",
            "Epoch 42/50\n",
            "610/610 [==============================] - 14s 23ms/step - loss: 4.8472 - val_loss: 4.0740\n",
            "Epoch 43/50\n",
            "610/610 [==============================] - 14s 23ms/step - loss: 4.8293 - val_loss: 4.0957\n",
            "Epoch 44/50\n",
            "610/610 [==============================] - 14s 24ms/step - loss: 4.8128 - val_loss: 4.1009\n",
            "Epoch 45/50\n",
            "610/610 [==============================] - 14s 23ms/step - loss: 4.7964 - val_loss: 4.0984\n",
            "Epoch 46/50\n",
            "610/610 [==============================] - 14s 23ms/step - loss: 4.7809 - val_loss: 4.1011\n",
            "Epoch 47/50\n",
            "610/610 [==============================] - 14s 23ms/step - loss: 4.7641 - val_loss: 4.0915\n",
            "Epoch 48/50\n",
            "610/610 [==============================] - 14s 23ms/step - loss: 4.7454 - val_loss: 4.0964\n",
            "Epoch 49/50\n",
            "610/610 [==============================] - 14s 23ms/step - loss: 4.7291 - val_loss: 4.1078\n",
            "Epoch 50/50\n",
            "610/610 [==============================] - 14s 23ms/step - loss: 4.7113 - val_loss: 4.1023\n"
          ],
          "name": "stdout"
        }
      ]
    },
    {
      "cell_type": "code",
      "metadata": {
        "id": "KqsG9m3PSDlk",
        "colab_type": "code",
        "colab": {
          "base_uri": "https://localhost:8080/",
          "height": 265
        },
        "outputId": "711eb132-16fc-4ece-af93-0653192708da"
      },
      "source": [
        "from matplotlib import pyplot\n",
        "pyplot.plot(history.history['loss'], label='train')\n",
        "pyplot.plot(history.history['val_loss'], label='test')\n",
        "pyplot.legend()\n",
        "pyplot.show()"
      ],
      "execution_count": 254,
      "outputs": [
        {
          "output_type": "display_data",
          "data": {
            "image/png": "[encoded data removed]",
            "text/plain": [
              "<Figure size 432x288 with 1 Axes>"
            ]
          },
          "metadata": {
            "tags": []
          }
        }
      ]
    },
    {
      "cell_type": "code",
      "metadata": {
        "id": "LdBe5vsjSGE5",
        "colab_type": "code",
        "colab": {}
      },
      "source": [
        "reverse_target_word_index=y_tokenizer.index_word\n",
        "reverse_source_word_index=x_tokenizer.index_word\n",
        "target_word_index=y_tokenizer.word_index"
      ],
      "execution_count": 0,
      "outputs": []
    },
    {
      "cell_type": "code",
      "metadata": {
        "id": "4UxF5XdZYGUi",
        "colab_type": "code",
        "colab": {}
      },
      "source": [
        "# Encode the input sequence to get the feature vector\n",
        "encoder_model = Model(inputs=encoder_inputs,outputs=[encoder_outputs, state_h, state_c])\n",
        "\n",
        "# Decoder setup\n",
        "# Below tensors will hold the states of the previous time step\n",
        "decoder_state_input_h = Input(shape=(latent_dim,))\n",
        "decoder_state_input_c = Input(shape=(latent_dim,))\n",
        "decoder_hidden_state_input = Input(shape=(max_text_len,latent_dim))\n",
        "decoder_state_inputs = [decoder_state_input_h, decoder_state_input_c]\n",
        "\n",
        "# Get the embeddings of the decoder sequence\n",
        "dec_emb2= dec_emb_layer(decoder_inputs) \n",
        "# To predict the next word in the sequence, set the initial states to the states from the previous time step\n",
        "decoder_outputs2, state_h2, state_c2 = decoder_lstm(dec_emb2, initial_state=decoder_state_inputs)\n",
        "\n",
        "# A dense softmax layer to generate prob dist. over the target vocabulary\n",
        "decoder_outputs2 = decoder_dense(decoder_outputs2) \n",
        "\n",
        "# Final decoder model\n",
        "decoder_model = Model(\n",
        "    [decoder_inputs] + [decoder_hidden_state_input,decoder_state_input_h, decoder_state_input_c],\n",
        "    [decoder_outputs2] + [state_h2, state_c2])"
      ],
      "execution_count": 0,
      "outputs": []
    },
    {
      "cell_type": "code",
      "metadata": {
        "id": "d4PESOr1pXRk",
        "colab_type": "code",
        "colab": {
          "base_uri": "https://localhost:8080/",
          "height": 395
        },
        "outputId": "3788616a-600b-4c59-a97c-0045bbd3a4bf"
      },
      "source": [
        "decoder_model.summary()"
      ],
      "execution_count": 257,
      "outputs": [
        {
          "output_type": "stream",
          "text": [
            "Model: \"model_41\"\n",
            "__________________________________________________________________________________________________\n",
            "Layer (type)                    Output Shape         Param #     Connected to                     \n",
            "==================================================================================================\n",
            "input_72 (InputLayer)           (None, None)         0                                            \n",
            "__________________________________________________________________________________________________\n",
            "embedding_40 (Embedding)        (None, None, 450)    3155400     input_72[0][0]                   \n",
            "__________________________________________________________________________________________________\n",
            "input_73 (InputLayer)           (None, 50)           0                                            \n",
            "__________________________________________________________________________________________________\n",
            "input_74 (InputLayer)           (None, 50)           0                                            \n",
            "__________________________________________________________________________________________________\n",
            "lstm_44 (LSTM)                  [(None, None, 50), ( 100200      embedding_40[1][0]               \n",
            "                                                                 input_73[0][0]                   \n",
            "                                                                 input_74[0][0]                   \n",
            "__________________________________________________________________________________________________\n",
            "dense_19 (Dense)                (None, None, 7012)   357612      lstm_44[1][0]                    \n",
            "==================================================================================================\n",
            "Total params: 3,613,212\n",
            "Trainable params: 3,613,212\n",
            "Non-trainable params: 0\n",
            "__________________________________________________________________________________________________\n"
          ],
          "name": "stdout"
        }
      ]
    },
    {
      "cell_type": "code",
      "metadata": {
        "id": "j27_ySW5aRWq",
        "colab_type": "code",
        "colab": {}
      },
      "source": [
        "def seq2summary(input_seq):\n",
        "    newString=''\n",
        "    for i in input_seq:\n",
        "        if(i!=0):\n",
        "            newString=newString+reverse_target_word_index[i]+' '\n",
        "    return newString\n",
        "\n",
        "def seq2text(input_seq):\n",
        "    newString=''\n",
        "    for i in input_seq:\n",
        "        if(i!=0):\n",
        "            newString=newString+reverse_source_word_index[i]+' '\n",
        "    return newString"
      ],
      "execution_count": 0,
      "outputs": []
    },
    {
      "cell_type": "code",
      "metadata": {
        "id": "FUvQlsNklUds",
        "colab_type": "code",
        "colab": {}
      },
      "source": [
        "def decode_sequence(input_seq): \n",
        "    # Encode the input as state vectors.\n",
        "    e_out, e_h, e_c = encoder_model.predict(input_seq)\n",
        "    target_seq = np.zeros((1,1))\n",
        "    stop_condition = False\n",
        "    decoded_sentence = ''\n",
        "    while not stop_condition:\n",
        "      output_tokens, h, c = decoder_model.predict([target_seq] + [e_out, e_h, e_c]) \n",
        "      sampled_token_index = np.argmax(output_tokens[0, -1, :])\n",
        "      print(sampled_token_index)\n",
        "      if (sampled_token_index != 0 ):\n",
        "        sampled_token = reverse_target_word_index[sampled_token_index]\n",
        "        decoded_sentence += ' '+sampled_token\n",
        "      else :\n",
        "        stop_condition = True\n",
        "      if (len(decoded_sentence.split()) >= (max_summary_len-1)):\n",
        "              stop_condition = True\n",
        "       # Update the target sequence (of length 1).\n",
        "      target_seq = np.zeros((1,1))\n",
        "      target_seq[0, 0] = sampled_token_index\n",
        "\n",
        "      # Update internal states\n",
        "      e_h, e_c = h, c\n",
        "    return decoded_sentence"
      ],
      "execution_count": 0,
      "outputs": []
    },
    {
      "cell_type": "code",
      "metadata": {
        "id": "CsRB_AJHaXL7",
        "colab_type": "code",
        "colab": {
          "base_uri": "https://localhost:8080/",
          "height": 135
        },
        "outputId": "4fa61e43-f6f4-4a1a-a4c3-2a0e0879f7fa"
      },
      "source": [
        "for i in range(0,1):\n",
        "    print(\"Article:\",seq2text(x_tr[i]))\n",
        "    print(\"Original summary:\",seq2summary(y_tr[i]))\n",
        "    print(\"Generated summary:\",decode_sequence(x_tr[i].reshape(1,max_text_len)))\n",
        "    print(\"\\n\")"
      ],
      "execution_count": 263,
      "outputs": [
        {
          "output_type": "stream",
          "text": [
            "Article: proceedings end day defense attorney mark omara object earlier call prosecutor argue necessary explain zimmermans remark burglar get away the martin family sat watch proceeding behind state attorney angela corey before witness testimony begin judge debra nelson deny defense request martins father tracy martin leave courtroom tracy martin potential witness potential witness force sit outside courtroom keep testimony taint witness but nextofkin victim allow remain court even theyre expect testify omara also accuse tracy martin use obscenity toward friend zimmermans hold door hearing two week ago the friend timothy tucholski testify hadnt want make issue i wasnt planning come i dont want sit say but nelson deny request martin remain court zimmermans parent cover rule regard potential witness sit outside benjamin crump lawyer martins parent at one point martins father begin cry guy detailed officer try save son life zimmerman mostly star straight ahead without sign emotion following guys statement defense attorney don west come forward woo jury as begin told knockknock joke but fail win laugh knock knock whos george zimmerman george zimmerman good youre jury say later west apologize no bad joke i promise told juror i convince delivery west quickly get business make case zimmerman force act selfdefense save life the evidence show sad case monster george zimmerman guilty murder he shot trayvon martin viciously attack with help powerpoint visuals west spent hour hammer home argument he broke zimmermans 911 call first report see martin told follow little george zimmerman know time less 10 minute first see travyon martin george zimmerman would suckered punch face head pound concrete wind shoot tragically kill trayvon martin west told juror west also deconstruct 911 call neighbor make possible hear scream shot background west say sound fatal bullet as dramatic record audio fill courtroom zimmerman show emotion martins mother left courtroom at moment actually become physical trayvon martin i use word trayvon martin decide confront george zimmerman west say that instead go home he plenty time this 60 70 yard plenty time he couldve go back forth four five time west quote witness name john good described fight he call ground pound martin say top zimmerman beating he saw enough serious west say zimmerman cry help look good say help but beating continued good go inside home call 911 west say there shot shortly afterward accord west zimmerman say martin beating i shot west also dispute prosecution claim martin unarmed travyon martin arm concrete sidewalk use smash george zimmermans head say west no different picked brick smash head wall that deadly weapon west show juror photo take zimmerman fight what really see picture evidence lump west say the big knot side head consistent head slam concrete allfemale jury try zimmerman among first prosecution witness call 911 dispatcher take zimmermans call shoot seat noffke testify train give general command instead direct order people when zimmerman say follow martin noffke told okay dont need noffke told prosecutor he liable direct order give someone on crossexamination defense attorney omara point noffke ask zimmerman which way run if tell somebody twice let know person theyre concerned anything else think theyre go keep eye ask omara i cant answer say noffke you tell twice let know guy anything else say omara yes sir say noffke noffke go say want location suspect officer never told zimmerman follow keep eye martin shortly court get way martins mother sybrina fulton spoke reporter ask people pray family i dont want mother experience im go judge no state expert testimony 911 call martin black zimmerman identifies hispanic in cnn poll release monday morning 62 respondent say charge zimmerman probably definitely true \n",
            "Original summary: defense lawyer apologizes for telling joke during opening statements father of trayvon martin cries in courtroom george zimmerman shows no emotion did zimmerman commit 2nd degree murder when he killed martin or was it selfdefense 62 in a cnn poll say the charges against zimmerman are probably or definitely true \n",
            "0\n",
            "Generated summary: \n",
            "\n",
            "\n"
          ],
          "name": "stdout"
        }
      ]
    }
  ]
}