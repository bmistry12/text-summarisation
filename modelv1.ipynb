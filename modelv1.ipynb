{
  "nbformat": 4,
  "nbformat_minor": 0,
  "metadata": {
    "colab": {
      "name": "projectv3",
      "provenance": [],
      "collapsed_sections": []
    },
    "kernelspec": {
      "name": "python3",
      "display_name": "Python 3"
    },
    "accelerator": "GPU"
  },
  "cells": [
    {
      "cell_type": "code",
      "metadata": {
        "id": "3814CBEDMGWD",
        "colab_type": "code",
        "colab": {}
      },
      "source": [
        "import numpy as np\n",
        "import pandas as pd \n",
        "import re\n",
        "from keras.preprocessing.text import Tokenizer \n",
        "from keras.preprocessing.sequence import pad_sequences\n",
        "from nltk.corpus import stopwords\n",
        "from keras.layers import Input, LSTM, Embedding, Dense, Concatenate, TimeDistributed\n",
        "from tensorflow.keras.layers import Attention\n",
        "from keras.models import Model\n",
        "from keras.callbacks import EarlyStopping\n",
        "import warnings\n",
        "import matplotlib.pyplot as plt\n",
        "from keras.preprocessing.text import Tokenizer \n",
        "from keras.preprocessing.sequence import pad_sequences\n",
        "from sklearn.model_selection import train_test_split"
      ],
      "execution_count": 0,
      "outputs": []
    },
    {
      "cell_type": "code",
      "metadata": {
        "id": "SltBzhFNkBFB",
        "colab_type": "code",
        "colab": {}
      },
      "source": [
        "BATCH_SIZE=128\n",
        "EPOCHS=100\n",
        "latent_dim=256\n",
        "embedding_dim=100\n",
        "test_train_split=0.25"
      ],
      "execution_count": 0,
      "outputs": []
    },
    {
      "cell_type": "code",
      "metadata": {
        "id": "cP41uqf_MiQL",
        "colab_type": "code",
        "outputId": "283c38bc-bcb9-4c1e-f5f5-8c299a72a395",
        "colab": {
          "base_uri": "https://localhost:8080/",
          "height": 76
        }
      },
      "source": [
        "df = pd.read_csv('./data0.csv')\n",
        "df.head(1)"
      ],
      "execution_count": 308,
      "outputs": [
        {
          "output_type": "execute_result",
          "data": {
            "text/html": [
              "<div>\n",
              "<style scoped>\n",
              "    .dataframe tbody tr th:only-of-type {\n",
              "        vertical-align: middle;\n",
              "    }\n",
              "\n",
              "    .dataframe tbody tr th {\n",
              "        vertical-align: top;\n",
              "    }\n",
              "\n",
              "    .dataframe thead th {\n",
              "        text-align: right;\n",
              "    }\n",
              "</style>\n",
              "<table border=\"1\" class=\"dataframe\">\n",
              "  <thead>\n",
              "    <tr style=\"text-align: right;\">\n",
              "      <th></th>\n",
              "      <th>Unnamed: 0</th>\n",
              "      <th>file</th>\n",
              "      <th>text</th>\n",
              "      <th>summary</th>\n",
              "    </tr>\n",
              "  </thead>\n",
              "  <tbody>\n",
              "    <tr>\n",
              "      <th>0</th>\n",
              "      <td>0</td>\n",
              "      <td>0002c17436637c4fe1837c935c04de47adb18e9a.story</td>\n",
              "      <td>Los Angeles A medical doctor Vancouver British...</td>\n",
              "      <td>NEW A Canadian doctor says she was part of a t...</td>\n",
              "    </tr>\n",
              "  </tbody>\n",
              "</table>\n",
              "</div>"
            ],
            "text/plain": [
              "   Unnamed: 0  ...                                            summary\n",
              "0           0  ...  NEW A Canadian doctor says she was part of a t...\n",
              "\n",
              "[1 rows x 4 columns]"
            ]
          },
          "metadata": {
            "tags": []
          },
          "execution_count": 308
        }
      ]
    },
    {
      "cell_type": "code",
      "metadata": {
        "id": "7G_ytIi8Mo0R",
        "colab_type": "code",
        "outputId": "143a0a7e-77ab-47f1-bc4f-c762c6d99f67",
        "colab": {
          "base_uri": "https://localhost:8080/",
          "height": 281
        }
      },
      "source": [
        "text_word_count = []\n",
        "summary_word_count = []\n",
        "\n",
        "# populate the lists with sentence lengths\n",
        "for i in df['text']:\n",
        "      text_word_count.append(len(i.split(' ')))\n",
        "\n",
        "for i in df['summary']:\n",
        "      summary_word_count.append(len(i.split(' ')))\n",
        "\n",
        "length_df = pd.DataFrame({'text':text_word_count, 'summary':summary_word_count})\n",
        "\n",
        "length_df.hist(bins = 30)\n",
        "plt.show()"
      ],
      "execution_count": 309,
      "outputs": [
        {
          "output_type": "display_data",
          "data": {
            "image/png": "[encoded data removed]",
            "text/plain": [
              "<Figure size 432x288 with 2 Axes>"
            ]
          },
          "metadata": {
            "tags": []
          }
        }
      ]
    },
    {
      "cell_type": "code",
      "metadata": {
        "id": "gion9JsaNa32",
        "colab_type": "code",
        "outputId": "cbf2d97d-c7ca-4228-9dc6-565bf01bf518",
        "colab": {
          "base_uri": "https://localhost:8080/",
          "height": 33
        }
      },
      "source": [
        "cnt=0\n",
        "for i in df['summary']:\n",
        "    if(len(i.split())<=60):\n",
        "        cnt=cnt+1\n",
        "print(cnt/len(df['summary']))"
      ],
      "execution_count": 310,
      "outputs": [
        {
          "output_type": "stream",
          "text": [
            "0.9777195281782438\n"
          ],
          "name": "stdout"
        }
      ]
    },
    {
      "cell_type": "code",
      "metadata": {
        "colab_type": "code",
        "outputId": "d3f96800-77a5-45fb-d35c-db938ee3c443",
        "id": "ZRV4cD1ONogl",
        "colab": {
          "base_uri": "https://localhost:8080/",
          "height": 33
        }
      },
      "source": [
        "cnt=0\n",
        "for i in df['text']:\n",
        "    if(len(i.split())<=600):\n",
        "        cnt=cnt+1\n",
        "print(cnt/len(df['text']))"
      ],
      "execution_count": 311,
      "outputs": [
        {
          "output_type": "stream",
          "text": [
            "0.8401048492791612\n"
          ],
          "name": "stdout"
        }
      ]
    },
    {
      "cell_type": "code",
      "metadata": {
        "id": "b-4Sq9mJNyCG",
        "colab_type": "code",
        "colab": {}
      },
      "source": [
        "max_text_len=600\n",
        "max_summary_len=60"
      ],
      "execution_count": 0,
      "outputs": []
    },
    {
      "cell_type": "code",
      "metadata": {
        "id": "dkmbBcXzvSZl",
        "colab_type": "code",
        "colab": {}
      },
      "source": [
        "X = np.array(df['text'])\n",
        "Y = np.array(df['summary'])"
      ],
      "execution_count": 0,
      "outputs": []
    },
    {
      "cell_type": "code",
      "metadata": {
        "id": "c_ZKSCTyOFss",
        "colab_type": "code",
        "outputId": "403c757f-6ab1-4b02-986b-f2c0b892f9ba",
        "colab": {
          "base_uri": "https://localhost:8080/",
          "height": 82
        }
      },
      "source": [
        "x_tr,x_val,y_tr,y_val=train_test_split(X,Y,test_size=test_train_split,random_state=0,shuffle=True)\n",
        "print(x_tr.shape)\n",
        "print(x_val.shape)\n",
        "print(y_tr.shape)\n",
        "print(y_val.shape)"
      ],
      "execution_count": 314,
      "outputs": [
        {
          "output_type": "stream",
          "text": [
            "(572,)\n",
            "(191,)\n",
            "(572,)\n",
            "(191,)\n"
          ],
          "name": "stdout"
        }
      ]
    },
    {
      "cell_type": "code",
      "metadata": {
        "id": "vqDINa0yOpwB",
        "colab_type": "code",
        "colab": {}
      },
      "source": [
        "#prepare a tokenizer for reviews on training data\n",
        "x_tokenizer = Tokenizer() \n",
        "x_tokenizer.fit_on_texts(list(X))"
      ],
      "execution_count": 0,
      "outputs": []
    },
    {
      "cell_type": "code",
      "metadata": {
        "id": "nUGjd9NiOYS3",
        "colab_type": "code",
        "outputId": "68d30d68-3db6-40ea-e3a6-eacba46b5bc7",
        "colab": {
          "base_uri": "https://localhost:8080/",
          "height": 50
        }
      },
      "source": [
        "thresh=3\n",
        "\n",
        "cnt=0\n",
        "tot_cnt=0\n",
        "freq=0\n",
        "tot_freq=0\n",
        "\n",
        "for key,value in x_tokenizer.word_counts.items():\n",
        "    tot_cnt=tot_cnt+1\n",
        "    tot_freq=tot_freq+value\n",
        "    if(value<thresh):\n",
        "        cnt=cnt+1\n",
        "        freq=freq+value\n",
        "    \n",
        "print(\"% of rare words in vocabulary:\",(cnt/tot_cnt)*100)\n",
        "print(\"Total Coverage of rare words:\",(freq/tot_freq)*100)"
      ],
      "execution_count": 316,
      "outputs": [
        {
          "output_type": "stream",
          "text": [
            "% of rare words in vocabulary: 59.30358678984179\n",
            "Total Coverage of rare words: 6.505136067080099\n"
          ],
          "name": "stdout"
        }
      ]
    },
    {
      "cell_type": "code",
      "metadata": {
        "id": "RgI_aoWjOJC8",
        "colab_type": "code",
        "outputId": "d2709734-2bc3-4b3c-9036-42a567a118fd",
        "colab": {
          "base_uri": "https://localhost:8080/",
          "height": 33
        }
      },
      "source": [
        "#prepare a tokenizer for reviews on training data\n",
        "x_tokenizer = Tokenizer(num_words=tot_cnt) \n",
        "x_tokenizer.fit_on_texts(list(X))\n",
        "\n",
        "#convert text sequences into integer sequences\n",
        "x_tr_seq    =   x_tokenizer.texts_to_sequences(x_tr) \n",
        "x_val_seq   =   x_tokenizer.texts_to_sequences(x_val)\n",
        "\n",
        "#padding zero upto maximum length\n",
        "x_tr    =   pad_sequences(x_tr_seq,  maxlen=max_text_len, padding='post')\n",
        "x_val   =   pad_sequences(x_val_seq, maxlen=max_text_len, padding='post')\n",
        "\n",
        "#size of vocabulary ( +1 for padding token)\n",
        "x_voc   =  x_tokenizer.num_words + 1\n",
        "print(x_voc)"
      ],
      "execution_count": 317,
      "outputs": [
        {
          "output_type": "stream",
          "text": [
            "26738\n"
          ],
          "name": "stdout"
        }
      ]
    },
    {
      "cell_type": "code",
      "metadata": {
        "id": "H7cdORwjOy6l",
        "colab_type": "code",
        "colab": {}
      },
      "source": [
        "#prepare a tokenizer for reviews on training data\n",
        "y_tokenizer = Tokenizer()   \n",
        "y_tokenizer.fit_on_texts(list(Y))"
      ],
      "execution_count": 0,
      "outputs": []
    },
    {
      "cell_type": "code",
      "metadata": {
        "id": "oSdu2pHCOk5s",
        "colab_type": "code",
        "outputId": "3460abf7-f539-4490-8c32-29ec8ab02c20",
        "colab": {
          "base_uri": "https://localhost:8080/",
          "height": 50
        }
      },
      "source": [
        "thresh=2\n",
        "\n",
        "cnt=0\n",
        "tot_cnt=0\n",
        "freq=0\n",
        "tot_freq=0\n",
        "\n",
        "for key,value in y_tokenizer.word_counts.items():\n",
        "    tot_cnt=tot_cnt+1\n",
        "    tot_freq=tot_freq+value\n",
        "    if(value<thresh):\n",
        "        cnt=cnt+1\n",
        "        freq=freq+value\n",
        "    \n",
        "print(\"% of rare words in vocabulary:\",(cnt/tot_cnt)*100)\n",
        "print(\"Total Coverage of rare words:\",(freq/tot_freq)*100)"
      ],
      "execution_count": 319,
      "outputs": [
        {
          "output_type": "stream",
          "text": [
            "% of rare words in vocabulary: 56.56853043047996\n",
            "Total Coverage of rare words: 14.020296164576754\n"
          ],
          "name": "stdout"
        }
      ]
    },
    {
      "cell_type": "code",
      "metadata": {
        "id": "L8B5C4G3O2JF",
        "colab_type": "code",
        "outputId": "c5753308-5d6a-4803-bfd2-0d8b312dfcc3",
        "colab": {
          "base_uri": "https://localhost:8080/",
          "height": 33
        }
      },
      "source": [
        "#prepare a tokenizer for reviews on training data\n",
        "y_tokenizer = Tokenizer(num_words=tot_cnt) \n",
        "y_tokenizer.fit_on_texts(list(Y))\n",
        "\n",
        "#convert text sequences into integer sequences\n",
        "y_tr_seq    =   y_tokenizer.texts_to_sequences(y_tr) \n",
        "y_val_seq   =   y_tokenizer.texts_to_sequences(y_val) \n",
        "\n",
        "#padding zero upto maximum length\n",
        "y_tr    =   pad_sequences(y_tr_seq, maxlen=max_summary_len, padding='post')\n",
        "y_val   =   pad_sequences(y_val_seq, maxlen=max_summary_len, padding='post')\n",
        "\n",
        "#size of vocabulary\n",
        "y_voc  =   y_tokenizer.num_words +1\n",
        "print(y_voc)"
      ],
      "execution_count": 320,
      "outputs": [
        {
          "output_type": "stream",
          "text": [
            "8085\n"
          ],
          "name": "stdout"
        }
      ]
    },
    {
      "cell_type": "code",
      "metadata": {
        "id": "KoKBhvy8Pst3",
        "colab_type": "code",
        "outputId": "3b68e5aa-b41a-4dff-9338-d9bdc18d9c82",
        "colab": {
          "base_uri": "https://localhost:8080/",
          "height": 407
        }
      },
      "source": [
        "# Encoder\n",
        "encoder_inputs = Input(shape=(max_text_len,))\n",
        "#embedding layer\n",
        "enc_emb =  Embedding(x_voc, embedding_dim,trainable=True)(encoder_inputs)\n",
        "#encoder lstm 1\n",
        "encoder_lstm1 = LSTM(latent_dim,return_sequences=True,return_state=True,dropout=0.4,recurrent_dropout=0.4)\n",
        "encoder_outputs, state_h, state_c = encoder_lstm1(enc_emb)\n",
        "\n",
        "# Set up the decoder, using `encoder_states` as initial state.\n",
        "decoder_inputs = Input(shape=(None,))\n",
        "\n",
        "#embedding layer\n",
        "dec_emb_layer = Embedding(y_voc, embedding_dim,trainable=True)\n",
        "dec_emb = dec_emb_layer(decoder_inputs)\n",
        "\n",
        "decoder_lstm = LSTM(latent_dim, return_sequences=True, return_state=True, dropout=0.4,recurrent_dropout=0.2)\n",
        "decoder_outputs,decoder_fwd_state, decoder_back_state = decoder_lstm(dec_emb,initial_state=[state_h, state_c])\n",
        "                                                          \n",
        "#dense layer\n",
        "decoder_dense = Dense(y_voc, activation='softmax')\n",
        "# decoder_dense = Dense(y_voc, activation='softmax')\n",
        "decoder_outputs = decoder_dense(decoder_outputs)\n",
        "\n",
        "# Define the model \n",
        "model = Model([encoder_inputs, decoder_inputs], decoder_outputs)\n",
        "\n",
        "model.summary()"
      ],
      "execution_count": 321,
      "outputs": [
        {
          "output_type": "stream",
          "text": [
            "Model: \"model_46\"\n",
            "__________________________________________________________________________________________________\n",
            "Layer (type)                    Output Shape         Param #     Connected to                     \n",
            "==================================================================================================\n",
            "input_83 (InputLayer)           (None, 600)          0                                            \n",
            "__________________________________________________________________________________________________\n",
            "input_84 (InputLayer)           (None, None)         0                                            \n",
            "__________________________________________________________________________________________________\n",
            "embedding_45 (Embedding)        (None, 600, 100)     2673800     input_83[0][0]                   \n",
            "__________________________________________________________________________________________________\n",
            "embedding_46 (Embedding)        (None, None, 100)    808500      input_84[0][0]                   \n",
            "__________________________________________________________________________________________________\n",
            "lstm_49 (LSTM)                  [(None, 600, 256), ( 365568      embedding_45[0][0]               \n",
            "__________________________________________________________________________________________________\n",
            "lstm_50 (LSTM)                  [(None, None, 256),  365568      embedding_46[0][0]               \n",
            "                                                                 lstm_49[0][1]                    \n",
            "                                                                 lstm_49[0][2]                    \n",
            "__________________________________________________________________________________________________\n",
            "dense_22 (Dense)                (None, None, 8085)   2077845     lstm_50[0][0]                    \n",
            "==================================================================================================\n",
            "Total params: 6,291,281\n",
            "Trainable params: 6,291,281\n",
            "Non-trainable params: 0\n",
            "__________________________________________________________________________________________________\n"
          ],
          "name": "stdout"
        }
      ]
    },
    {
      "cell_type": "code",
      "metadata": {
        "id": "5tnk6l_BRKsD",
        "colab_type": "code",
        "colab": {}
      },
      "source": [
        "model.compile(optimizer='rmsprop', loss='sparse_categorical_crossentropy')"
      ],
      "execution_count": 0,
      "outputs": []
    },
    {
      "cell_type": "code",
      "metadata": {
        "id": "TfWjhzmcRMg3",
        "colab_type": "code",
        "colab": {}
      },
      "source": [
        "# es = EarlyStopping(monitor='val_loss', mode='min', verbose=1,patience=2)"
      ],
      "execution_count": 0,
      "outputs": []
    },
    {
      "cell_type": "code",
      "metadata": {
        "id": "m1EHMElMeY61",
        "colab_type": "code",
        "outputId": "5a8759e6-fbd0-40b2-c185-63947561bda0",
        "colab": {
          "base_uri": "https://localhost:8080/",
          "height": 1000
        }
      },
      "source": [
        "history=model.fit([x_tr,y_tr[:,:-1]], y_tr.reshape(y_tr.shape[0],y_tr.shape[1], 1)[:,1:] ,epochs=EPOCHS, batch_size=BATCH_SIZE, validation_data=([x_val,y_val[:,:-1]], y_val.reshape(y_val.shape[0],y_val.shape[1], 1)[:,1:]))"
      ],
      "execution_count": 324,
      "outputs": [
        {
          "output_type": "stream",
          "text": [
            "Train on 572 samples, validate on 191 samples\n",
            "Epoch 1/100\n",
            "572/572 [==============================] - 19s 33ms/step - loss: 8.5225 - val_loss: 6.4970\n",
            "Epoch 2/100\n",
            "572/572 [==============================] - 10s 17ms/step - loss: 6.0860 - val_loss: 5.9572\n",
            "Epoch 3/100\n",
            "572/572 [==============================] - 10s 18ms/step - loss: 5.7930 - val_loss: 5.9784\n",
            "Epoch 4/100\n",
            "572/572 [==============================] - 10s 17ms/step - loss: 5.7143 - val_loss: 6.0553\n",
            "Epoch 5/100\n",
            "572/572 [==============================] - 10s 17ms/step - loss: 5.7081 - val_loss: 5.9486\n",
            "Epoch 6/100\n",
            "572/572 [==============================] - 10s 17ms/step - loss: 5.6107 - val_loss: 5.8541\n",
            "Epoch 7/100\n",
            "572/572 [==============================] - 10s 17ms/step - loss: 5.5804 - val_loss: 6.0757\n",
            "Epoch 8/100\n",
            "572/572 [==============================] - 10s 18ms/step - loss: 5.5283 - val_loss: 5.8763\n",
            "Epoch 9/100\n",
            "572/572 [==============================] - 10s 18ms/step - loss: 5.4883 - val_loss: 5.8668\n",
            "Epoch 10/100\n",
            "572/572 [==============================] - 10s 18ms/step - loss: 5.4329 - val_loss: 5.9328\n",
            "Epoch 11/100\n",
            "572/572 [==============================] - 10s 18ms/step - loss: 5.4808 - val_loss: 5.8700\n",
            "Epoch 12/100\n",
            "572/572 [==============================] - 10s 18ms/step - loss: 5.3503 - val_loss: 5.8177\n",
            "Epoch 13/100\n",
            "572/572 [==============================] - 10s 18ms/step - loss: 5.3138 - val_loss: 5.8902\n",
            "Epoch 14/100\n",
            "572/572 [==============================] - 10s 17ms/step - loss: 5.2663 - val_loss: 5.8357\n",
            "Epoch 15/100\n",
            "572/572 [==============================] - 10s 17ms/step - loss: 5.2464 - val_loss: 5.8801\n",
            "Epoch 16/100\n",
            "572/572 [==============================] - 10s 18ms/step - loss: 5.2160 - val_loss: 5.8474\n",
            "Epoch 17/100\n",
            "572/572 [==============================] - 10s 18ms/step - loss: 5.1919 - val_loss: 5.8964\n",
            "Epoch 18/100\n",
            "572/572 [==============================] - 10s 17ms/step - loss: 5.1655 - val_loss: 5.8971\n",
            "Epoch 19/100\n",
            "572/572 [==============================] - 10s 17ms/step - loss: 5.1526 - val_loss: 5.9692\n",
            "Epoch 20/100\n",
            "572/572 [==============================] - 10s 18ms/step - loss: 5.1325 - val_loss: 5.9088\n",
            "Epoch 21/100\n",
            "572/572 [==============================] - 10s 17ms/step - loss: 5.1068 - val_loss: 5.9921\n",
            "Epoch 22/100\n",
            "572/572 [==============================] - 10s 18ms/step - loss: 5.0972 - val_loss: 5.9836\n",
            "Epoch 23/100\n",
            "572/572 [==============================] - 10s 18ms/step - loss: 5.0631 - val_loss: 6.0271\n",
            "Epoch 24/100\n",
            "572/572 [==============================] - 10s 17ms/step - loss: 5.0591 - val_loss: 5.9905\n",
            "Epoch 25/100\n",
            "572/572 [==============================] - 10s 17ms/step - loss: 5.0280 - val_loss: 6.0340\n",
            "Epoch 26/100\n",
            "572/572 [==============================] - 10s 17ms/step - loss: 5.0112 - val_loss: 6.0140\n",
            "Epoch 27/100\n",
            "572/572 [==============================] - 10s 17ms/step - loss: 4.9903 - val_loss: 6.0593\n",
            "Epoch 28/100\n",
            "572/572 [==============================] - 10s 18ms/step - loss: 4.9738 - val_loss: 6.0397\n",
            "Epoch 29/100\n",
            "572/572 [==============================] - 10s 17ms/step - loss: 4.9515 - val_loss: 6.0539\n",
            "Epoch 30/100\n",
            "572/572 [==============================] - 10s 17ms/step - loss: 4.9317 - val_loss: 6.0485\n",
            "Epoch 31/100\n",
            "572/572 [==============================] - 10s 18ms/step - loss: 4.9250 - val_loss: 6.0819\n",
            "Epoch 32/100\n",
            "572/572 [==============================] - 10s 17ms/step - loss: 4.8882 - val_loss: 6.0812\n",
            "Epoch 33/100\n",
            "572/572 [==============================] - 10s 17ms/step - loss: 4.8825 - val_loss: 6.0837\n",
            "Epoch 34/100\n",
            "572/572 [==============================] - 10s 17ms/step - loss: 4.8547 - val_loss: 6.0960\n",
            "Epoch 35/100\n",
            "572/572 [==============================] - 10s 17ms/step - loss: 4.8392 - val_loss: 6.0880\n",
            "Epoch 36/100\n",
            "572/572 [==============================] - 10s 18ms/step - loss: 4.8264 - val_loss: 6.1054\n",
            "Epoch 37/100\n",
            "572/572 [==============================] - 10s 17ms/step - loss: 4.8075 - val_loss: 6.1098\n",
            "Epoch 38/100\n",
            "572/572 [==============================] - 10s 18ms/step - loss: 4.7810 - val_loss: 6.1154\n",
            "Epoch 39/100\n",
            "572/572 [==============================] - 10s 18ms/step - loss: 4.7650 - val_loss: 6.1067\n",
            "Epoch 40/100\n",
            "572/572 [==============================] - 10s 18ms/step - loss: 4.7497 - val_loss: 6.1258\n",
            "Epoch 41/100\n",
            "572/572 [==============================] - 10s 17ms/step - loss: 4.7282 - val_loss: 6.1270\n",
            "Epoch 42/100\n",
            "572/572 [==============================] - 10s 17ms/step - loss: 4.7111 - val_loss: 6.1365\n",
            "Epoch 43/100\n",
            "572/572 [==============================] - 10s 17ms/step - loss: 4.6897 - val_loss: 6.1462\n",
            "Epoch 44/100\n",
            "572/572 [==============================] - 10s 18ms/step - loss: 4.6734 - val_loss: 6.1512\n",
            "Epoch 45/100\n",
            "572/572 [==============================] - 10s 17ms/step - loss: 4.6476 - val_loss: 6.1498\n",
            "Epoch 46/100\n",
            "572/572 [==============================] - 10s 17ms/step - loss: 4.6280 - val_loss: 6.1620\n",
            "Epoch 47/100\n",
            "572/572 [==============================] - 10s 18ms/step - loss: 4.6196 - val_loss: 6.1671\n",
            "Epoch 48/100\n",
            "572/572 [==============================] - 10s 17ms/step - loss: 4.5939 - val_loss: 6.1823\n",
            "Epoch 49/100\n",
            "572/572 [==============================] - 10s 17ms/step - loss: 4.5833 - val_loss: 6.1822\n",
            "Epoch 50/100\n",
            "572/572 [==============================] - 10s 17ms/step - loss: 4.5584 - val_loss: 6.1935\n",
            "Epoch 51/100\n",
            "572/572 [==============================] - 10s 17ms/step - loss: 4.5384 - val_loss: 6.1950\n",
            "Epoch 52/100\n",
            "572/572 [==============================] - 10s 17ms/step - loss: 4.5291 - val_loss: 6.2035\n",
            "Epoch 53/100\n",
            "572/572 [==============================] - 10s 18ms/step - loss: 4.5061 - val_loss: 6.2100\n",
            "Epoch 54/100\n",
            "572/572 [==============================] - 10s 18ms/step - loss: 4.4868 - val_loss: 6.2172\n",
            "Epoch 55/100\n",
            "572/572 [==============================] - 10s 17ms/step - loss: 4.4626 - val_loss: 6.2314\n",
            "Epoch 56/100\n",
            "572/572 [==============================] - 10s 17ms/step - loss: 4.4457 - val_loss: 6.2382\n",
            "Epoch 57/100\n",
            "572/572 [==============================] - 10s 17ms/step - loss: 4.4471 - val_loss: 6.2368\n",
            "Epoch 58/100\n",
            "572/572 [==============================] - 10s 17ms/step - loss: 4.4067 - val_loss: 6.2530\n",
            "Epoch 59/100\n",
            "572/572 [==============================] - 10s 17ms/step - loss: 4.3947 - val_loss: 6.2562\n",
            "Epoch 60/100\n",
            "572/572 [==============================] - 10s 17ms/step - loss: 4.3881 - val_loss: 6.2649\n",
            "Epoch 61/100\n",
            "572/572 [==============================] - 10s 18ms/step - loss: 4.3569 - val_loss: 6.2723\n",
            "Epoch 62/100\n",
            "572/572 [==============================] - 10s 17ms/step - loss: 4.3427 - val_loss: 6.2806\n",
            "Epoch 63/100\n",
            "572/572 [==============================] - 10s 17ms/step - loss: 4.3239 - val_loss: 6.2884\n",
            "Epoch 64/100\n",
            "572/572 [==============================] - 10s 17ms/step - loss: 4.3048 - val_loss: 6.2958\n",
            "Epoch 65/100\n",
            "572/572 [==============================] - 10s 17ms/step - loss: 4.2882 - val_loss: 6.3048\n",
            "Epoch 66/100\n",
            "572/572 [==============================] - 10s 17ms/step - loss: 4.2875 - val_loss: 6.3148\n",
            "Epoch 67/100\n",
            "572/572 [==============================] - 10s 17ms/step - loss: 4.2483 - val_loss: 6.3232\n",
            "Epoch 68/100\n",
            "572/572 [==============================] - 10s 18ms/step - loss: 4.2300 - val_loss: 6.3363\n",
            "Epoch 69/100\n",
            "572/572 [==============================] - 10s 17ms/step - loss: 4.2289 - val_loss: 6.3384\n",
            "Epoch 70/100\n",
            "572/572 [==============================] - 10s 17ms/step - loss: 4.1961 - val_loss: 6.3482\n",
            "Epoch 71/100\n",
            "572/572 [==============================] - 10s 17ms/step - loss: 4.1790 - val_loss: 6.3566\n",
            "Epoch 72/100\n",
            "572/572 [==============================] - 10s 17ms/step - loss: 4.1894 - val_loss: 6.3646\n",
            "Epoch 73/100\n",
            "572/572 [==============================] - 10s 17ms/step - loss: 4.2246 - val_loss: 6.3695\n",
            "Epoch 74/100\n",
            "572/572 [==============================] - 10s 17ms/step - loss: 4.1992 - val_loss: 6.3788\n",
            "Epoch 75/100\n",
            "572/572 [==============================] - 10s 17ms/step - loss: 4.1735 - val_loss: 6.3824\n",
            "Epoch 76/100\n",
            "572/572 [==============================] - 10s 17ms/step - loss: 4.1176 - val_loss: 6.3908\n",
            "Epoch 77/100\n",
            "572/572 [==============================] - 10s 17ms/step - loss: 4.0853 - val_loss: 6.3975\n",
            "Epoch 78/100\n",
            "572/572 [==============================] - 10s 17ms/step - loss: 4.0955 - val_loss: 6.4076\n",
            "Epoch 79/100\n",
            "572/572 [==============================] - 10s 17ms/step - loss: 4.0611 - val_loss: 6.4092\n",
            "Epoch 80/100\n",
            "572/572 [==============================] - 10s 17ms/step - loss: 4.0564 - val_loss: 6.4251\n",
            "Epoch 81/100\n",
            "572/572 [==============================] - 10s 17ms/step - loss: 4.0285 - val_loss: 6.4250\n",
            "Epoch 82/100\n",
            "572/572 [==============================] - 10s 17ms/step - loss: 4.0080 - val_loss: 6.4371\n",
            "Epoch 83/100\n",
            "572/572 [==============================] - 10s 18ms/step - loss: 3.9900 - val_loss: 6.4413\n",
            "Epoch 84/100\n",
            "572/572 [==============================] - 10s 17ms/step - loss: 3.9715 - val_loss: 6.4502\n",
            "Epoch 85/100\n",
            "572/572 [==============================] - 10s 18ms/step - loss: 3.9593 - val_loss: 6.4558\n",
            "Epoch 86/100\n",
            "572/572 [==============================] - 10s 17ms/step - loss: 3.9506 - val_loss: 6.4672\n",
            "Epoch 87/100\n",
            "572/572 [==============================] - 10s 17ms/step - loss: 3.9203 - val_loss: 6.4711\n",
            "Epoch 88/100\n",
            "572/572 [==============================] - 10s 17ms/step - loss: 3.9285 - val_loss: 6.4794\n",
            "Epoch 89/100\n",
            "572/572 [==============================] - 10s 18ms/step - loss: 3.8879 - val_loss: 6.4830\n",
            "Epoch 90/100\n",
            "572/572 [==============================] - 10s 18ms/step - loss: 3.8688 - val_loss: 6.4957\n",
            "Epoch 91/100\n",
            "572/572 [==============================] - 10s 18ms/step - loss: 3.8511 - val_loss: 6.5033\n",
            "Epoch 92/100\n",
            "572/572 [==============================] - 10s 17ms/step - loss: 3.8348 - val_loss: 6.5104\n",
            "Epoch 93/100\n",
            "572/572 [==============================] - 10s 17ms/step - loss: 3.8231 - val_loss: 6.5106\n",
            "Epoch 94/100\n",
            "572/572 [==============================] - 10s 17ms/step - loss: 3.8056 - val_loss: 6.5209\n",
            "Epoch 95/100\n",
            "572/572 [==============================] - 10s 17ms/step - loss: 3.7779 - val_loss: 6.5295\n",
            "Epoch 96/100\n",
            "572/572 [==============================] - 10s 18ms/step - loss: 3.7665 - val_loss: 6.5389\n",
            "Epoch 97/100\n",
            "572/572 [==============================] - 10s 17ms/step - loss: 3.7549 - val_loss: 6.5406\n",
            "Epoch 98/100\n",
            "572/572 [==============================] - 10s 17ms/step - loss: 3.7287 - val_loss: 6.5452\n",
            "Epoch 99/100\n",
            "572/572 [==============================] - 10s 18ms/step - loss: 3.7172 - val_loss: 6.5542\n",
            "Epoch 100/100\n",
            "572/572 [==============================] - 10s 18ms/step - loss: 3.6998 - val_loss: 6.5625\n"
          ],
          "name": "stdout"
        }
      ]
    },
    {
      "cell_type": "code",
      "metadata": {
        "id": "KqsG9m3PSDlk",
        "colab_type": "code",
        "colab": {
          "base_uri": "https://localhost:8080/",
          "height": 265
        },
        "outputId": "3a57125b-f214-48ec-cae0-73ba89ae042a"
      },
      "source": [
        "from matplotlib import pyplot\n",
        "pyplot.plot(history.history['loss'], label='train')\n",
        "pyplot.plot(history.history['val_loss'], label='test')\n",
        "pyplot.legend()\n",
        "pyplot.show()"
      ],
      "execution_count": 325,
      "outputs": [
        {
          "output_type": "display_data",
          "data": {
            "image/png": "[encoded data removed]",
            "text/plain": [
              "<Figure size 432x288 with 1 Axes>"
            ]
          },
          "metadata": {
            "tags": []
          }
        }
      ]
    },
    {
      "cell_type": "markdown",
      "metadata": {
        "id": "YD278Ls8yL8E",
        "colab_type": "text"
      },
      "source": [
        "## Inference Model"
      ]
    },
    {
      "cell_type": "code",
      "metadata": {
        "id": "LdBe5vsjSGE5",
        "colab_type": "code",
        "colab": {}
      },
      "source": [
        "reverse_target_word_index=y_tokenizer.index_word\n",
        "reverse_source_word_index=x_tokenizer.index_word\n",
        "target_word_index=y_tokenizer.word_index"
      ],
      "execution_count": 0,
      "outputs": []
    },
    {
      "cell_type": "code",
      "metadata": {
        "id": "4UxF5XdZYGUi",
        "colab_type": "code",
        "colab": {}
      },
      "source": [
        "# Encode the input sequence to get the feature vector\n",
        "encoder_model = Model(inputs=encoder_inputs,outputs=[encoder_outputs, state_h, state_c])\n",
        "\n",
        "# Decoder setup\n",
        "# Below tensors will hold the states of the previous time step\n",
        "decoder_state_input_h = Input(shape=(latent_dim,))\n",
        "decoder_state_input_c = Input(shape=(latent_dim,))\n",
        "decoder_hidden_state_input = Input(shape=(max_text_len,latent_dim))\n",
        "decoder_state_inputs = [decoder_state_input_h, decoder_state_input_c]\n",
        "\n",
        "# Get the embeddings of the decoder sequence\n",
        "dec_emb2= dec_emb_layer(decoder_inputs) \n",
        "# To predict the next word in the sequence, set the initial states to the states from the previous time step\n",
        "decoder_outputs2, state_h2, state_c2 = decoder_lstm(dec_emb2, initial_state=decoder_state_inputs)\n",
        "\n",
        "# A dense softmax layer to generate prob dist. over the target vocabulary\n",
        "decoder_outputs2 = decoder_dense(decoder_outputs2) \n",
        "\n",
        "# Final decoder model\n",
        "decoder_model = Model(\n",
        "    [decoder_inputs] + [decoder_hidden_state_input,decoder_state_input_h, decoder_state_input_c],\n",
        "    [decoder_outputs2] + [state_h2, state_c2])"
      ],
      "execution_count": 0,
      "outputs": []
    },
    {
      "cell_type": "code",
      "metadata": {
        "id": "d4PESOr1pXRk",
        "colab_type": "code",
        "colab": {
          "base_uri": "https://localhost:8080/",
          "height": 375
        },
        "outputId": "dd61bed6-28ca-4004-9bdb-5ec56dcb50b1"
      },
      "source": [
        "decoder_model.summary()"
      ],
      "execution_count": 334,
      "outputs": [
        {
          "output_type": "stream",
          "text": [
            "Model: \"model_50\"\n",
            "__________________________________________________________________________________________________\n",
            "Layer (type)                    Output Shape         Param #     Connected to                     \n",
            "==================================================================================================\n",
            "input_84 (InputLayer)           (None, None)         0                                            \n",
            "__________________________________________________________________________________________________\n",
            "embedding_46 (Embedding)        (None, None, 100)    808500      input_84[0][0]                   \n",
            "__________________________________________________________________________________________________\n",
            "input_88 (InputLayer)           (None, 256)          0                                            \n",
            "__________________________________________________________________________________________________\n",
            "input_89 (InputLayer)           (None, 256)          0                                            \n",
            "__________________________________________________________________________________________________\n",
            "lstm_50 (LSTM)                  [(None, None, 256),  365568      embedding_46[2][0]               \n",
            "                                                                 input_88[0][0]                   \n",
            "                                                                 input_89[0][0]                   \n",
            "__________________________________________________________________________________________________\n",
            "dense_22 (Dense)                (None, None, 8085)   2077845     lstm_50[2][0]                    \n",
            "==================================================================================================\n",
            "Total params: 3,251,913\n",
            "Trainable params: 3,251,913\n",
            "Non-trainable params: 0\n",
            "__________________________________________________________________________________________________\n"
          ],
          "name": "stdout"
        }
      ]
    },
    {
      "cell_type": "code",
      "metadata": {
        "id": "j27_ySW5aRWq",
        "colab_type": "code",
        "colab": {}
      },
      "source": [
        "def seq2summary(input_seq):\n",
        "    newString=''\n",
        "    for i in input_seq:\n",
        "        if(i!=0):\n",
        "            newString=newString+reverse_target_word_index[i]+' '\n",
        "    return newString\n",
        "\n",
        "def seq2text(input_seq):\n",
        "    newString=''\n",
        "    for i in input_seq:\n",
        "        if(i!=0):\n",
        "            newString=newString+reverse_source_word_index[i]+' '\n",
        "    return newString"
      ],
      "execution_count": 0,
      "outputs": []
    },
    {
      "cell_type": "code",
      "metadata": {
        "id": "FUvQlsNklUds",
        "colab_type": "code",
        "colab": {}
      },
      "source": [
        "def decode_sequence(input_seq): \n",
        "    # Encode the input as state vectors.\n",
        "    e_out, e_h, e_c = encoder_model.predict(input_seq)\n",
        "    # print(e_out)\n",
        "    target_seq = np.zeros((1,1))\n",
        "    stop_condition = False\n",
        "    decoded_sentence = ''\n",
        "    while not stop_condition:\n",
        "      output_tokens, h, c = decoder_model.predict([target_seq] + [e_out, e_h, e_c]) \n",
        "      sampled_token_index = np.argmax(output_tokens[0, -1, :])\n",
        "      # print(sampled_token_index)\n",
        "      if (sampled_token_index != 0 ):\n",
        "        sampled_token = reverse_target_word_index[sampled_token_index]\n",
        "        decoded_sentence += ' '+sampled_token\n",
        "      else :\n",
        "        stop_condition = True\n",
        "      if (len(decoded_sentence.split()) >= (max_summary_len-1)):\n",
        "              stop_condition = True\n",
        "       # Update the target sequence (of length 1).\n",
        "      target_seq = np.zeros((1,1))\n",
        "      target_seq[0, 0] = sampled_token_index\n",
        "\n",
        "      # Update internal states\n",
        "      e_h, e_c = h, c\n",
        "    return decoded_sentence"
      ],
      "execution_count": 0,
      "outputs": []
    },
    {
      "cell_type": "code",
      "metadata": {
        "id": "CsRB_AJHaXL7",
        "colab_type": "code",
        "colab": {
          "base_uri": "https://localhost:8080/",
          "height": 443
        },
        "outputId": "7d76e755-cff8-4051-f236-76d7c761a92c"
      },
      "source": [
        "for i in range(0,5):\n",
        "    print(\"Article:\",seq2text(x_tr[i]))\n",
        "    print(\"Original summary:\",seq2summary(y_tr[i]))\n",
        "    print(\"Generated summary:\",decode_sequence(x_tr[i].reshape(1,max_text_len)))\n",
        "    print(\"\\n\")"
      ],
      "execution_count": 340,
      "outputs": [
        {
          "output_type": "stream",
          "text": [
            "Article: scores people without bread day kill syrian warplane bombed bakery western village halfaya opposition activist say sunday more 100 people kill opposition local coordination committees syria say the death toll could rise activist group say an activist oversaw burial many body say least 109 people die hassan alrajb told cnn 69 people identify bury 15 others laid rest without idd at least 25 body still site hospital worker say road cut unable reach bakery say the hospital handle wound say an lcc activist told cnn go scene there dozen dead thrown street the resident shock state fear it chaotic mahmoud alawy say videos post social medium purport show aftermath attack many body limb apparently blown others lay bloody street rubble strewn sidewalk uniformed free syrian army soldier civilian scramble pull survivor carnage cnn independently confirm government opposition report syria government restrict access journalist the town lack ingredient bread week aid group deliver provision saturday alawy say hundreds people line bakery sunday alrajb say town three bakery one open 1 pm workers begin distribute bread two hour later he roof 200 meter 219 yard bakery 4 pm saw plane overhead he scramble toward scene heard cry emergency emergency say the first floor collapse second floor four rocket fire say attack alawy claimed government target large gathering people artillery shell recent day since free syrian army liberate town syrian force about hour bakery attack 15 shell fire halfaya nearby town alrajb say the hama revolution command council network activist affiliate fsa hama province say mig warplane bombed bakery many syrians face food shortage need winter weather set the united nations estimate 25 million need humanitarian assistance earlier week opposition group also say rebel regime force battle near hospital halfaya twentyfive people die lcc say syria fire scud missile nato say russia syria consolidates chemical weapon cnns salma abdelaziz contribute report \n",
            "Original summary: new one resident says 84 people have been buried with more bodies still on the streets new people had been waiting for bread for almost a week activists say mig planes bombed a bakery in western syria videos posted on social media show rebel soldiers civilians rushing to scene \n",
            "Generated summary:  is the first the first cristiano ronaldo of the united cup the first the century states in the first message in the united and jean also and jean match\n",
            "\n",
            "\n",
            "Article: all 77 nato service member wound saturday attack coalition base afghanistan us troop spokeswoman international security assistance force say sunday two afghan civilian kill 25 others also wound attack occur eve 10th anniversary al qaedas attack united states 911 us army sgt lindsey kibler say none injury lifethreatening isaf say wound expect return duty shortly the truck bombing take place centraleast province wardak kill afghan laborer say shahidullah shahid wardak governor spokesman this attack highprofile attack it pretty significant suicide vehicle bomb gen john r allen commander coalition us force afghanistan told cnns suzanne malveaux sunday the taliban claimed responsibility assault natos international security assistance force confirm attack carry taliban suicide bomber allen say attack indicates much taliban unable able they eject population many place around country ability influence battlefield many occasion simply go highprofile attack and thats view particular attack say shahid say three people die nato say two nato also say 77 personnel injured provincial government say 10 people injured it uncommon local government nato vary account attack the attacker drive truck carry firewood detonate explosive entry point base isaf say statement most force explosion absorbed protective barrier outpost entrance though significant number injury none immediately life threaten statement say in video issue isaf saturday allen spoke 911 anniversary long war say still much work do fight taliban militant prevail he also praise troop 49 nation serve isaf coalition the protract war begin month al qaeda terror network shelter time ruling taliban militant attack united states september 11 2001 usled force kick operation enduring freedom october oust taliban coalition afghan troop fight tenacious taliban militant afghanpakistani region allen note september 11 mark 10th anniversary event change world ever since day say troop cripple insurgent honor victim terrorism worldwide he say coalition commit make sure afghanistan never safe al qaeda you help afghan people build nation democratic government everstrengthening security force say say afghanistan make advance security economic development governance the coalition death toll war near 2700 accord cnn count united states sustain casualty operation enduring freedom august deadliest month us force afghanistan since conflict begin seventyone american troop die august top july 2010 65 troop die accord cnn tally the surge us death come nato draw hand security control national force some 10000 us troop schedule depart year end us military personnel afghanistan end 2014 cnns joe sterling adam levine matiullah mati claudia dominguez tom evans contribute report \n",
            "Original summary: new all of the injured troops are americans an isaf official says at least two afghan civilians are killed in the attack gen john r allen the attack says more about what the taliban cannot do their only ability to influence the battlefield is often to go for a highprofile attack he says \n",
            "Generated summary:  is the first the first cristiano ronaldo of the united cup the first the century states in the first garden in the united and jean also in the rankings and the rankings and the rankings of the own match\n",
            "\n",
            "\n",
            "Article: i dont think euro exist say saxo bank coceo lars seier christensen cnns richard quest term could hardly less fractious supporter 17nation single currency bloc its quite clear lack fiscal union also clear population europe supportive goal the eurozone also pull apart competitiveness continue develop different direction say head online danish investment bank he add people eurozone particular germany monetary zone prime pillar make sacrifice weaker part eurozone greece southern european country christensens controversial comment stand stark contrast eurozone supporter say advocate austerity keep union together germany europes large economy fear greek exit eurozone could lead domino effect massivelyindebted country ireland portugal spain italy may pull common currency lead breakup eurozone in december 2012 german chancellor angela merkel support bailout fund greece in july mario draghi president european central bank promise whatever take preserve euro set rally greek spanish italian bond still saxo banks christensen believe euro disappear point future despite hit 13month high believe overall support exist im say bad thing support say christensen ability adjust currency important equilibrium different economy different development when thats go youre left completely different set problem the bank ceo decline give timeline say depends long germans hold long german population willing buy support fiscal union i tell problem go get great rather small i fear market take thing apart eventually \n",
            "Original summary: saxo coceo euro should never have existed germany fears greek exit from eurozone would spark monetary union breakup euro has risen 10 against u s dollar since july 2012 saxos christensen euro demise depends on germany \n",
            "Generated summary:  is the first the first cristiano ronaldo of the world cup the first version to the first event in the first garden in the united and jean the innuendo and jean the muppets match and the rankings and the rankings of the own match\n",
            "\n",
            "\n",
            "Article: at time like one state one city people governor patrick say the fund already raise 23 million go towards victim family affected bombing donate onefundbostonorg fbi victim assistance center the fbi assistance center activate anyone injured witness boston bombing the red cross the red cross ground mobilize mental health volunteer support affected well opening family assistance center they offering 247 free mental health support want access contact samhsa disaster distress helpline 18009855990 text talkwithus 66746 the red cross recommends people download first aid app provide information help emergency situation the red cross also valuable information deal emotional crisis donate volunteer american red cross give blood there may blood sustain basis anyone wish give blood keep check local hospital organization like red cross near future see need may donate the salvation army the salvation army establish specific fund victim boston donate boston childrens hospital ten victim take bostons childrens hospital the hospital update website news becomes available follow bostonchildrens twitter update the childrens hospital website also useful resource guidance talk child tragedy donate bostons childrens hospital adidas boston tribute tee adidas design t shirt commend boston first responder boston athletic association volunteer reaction event surround bombing 100 proceeds sale t shirt go onefundbostonorg buy adidas boston tribute tee b strong hat major league baseball major league baseball players association boston red sox join donate combine 600000 victim marathon bombing family the red sox mlb also donate 100 proceeds sale b strong hat red sox letter b the one fund create mayor menino buy b strong hat boston marathon relief fund semper fi fund create boston marathon relief fund donations raise go help injured bombing hospital staffto donate please go americas fund website select boston marathon relief fund dropdown menu donate boston marathon relief fund richard family fund the richard family fund establish help family 8 year old martin richard die bombing martins mother sister also badly injured funds help family medical expense recovery donate richard family fund sean collier memorial fund mit create memorial fund honor slain campus police office sean collier donate sean collier memorial fund celeste sydney corcoran recovery fund celeste sydney corcoran badly injured blast sydney sustain severe shrapnel injury celeste leg amputate knee anyone wish help family financial burden tragedy donate fund name donate celeste sydney recovery fund white family fund 3 member white family sustain serious injury explosion one family member lose limb a fund set website youcaringcom help family recovery rehabilitation donate white family fund jeff bauman fund waiting cheer girlfriend across finish line jeff bauman caught explosion suffer loss leg severe burn vision damage a fund set help jeff youcaringcom donate jeff bauman fund patrick downes jessica kensky fund newlywed couple patrick downes jessica kensky lose leg boston blast a fund set help recovery rehabilitation prosthetics giveforwardcom donate patrick downes jessica kensky fund adrianne hasletdavis fund dancer adrianne hasletdavis husband adam caught bombing adrianne lose left foot a fund establish help adriannes recovery donate adrianne hasletdavis fund nicole michael gross erika brannock fund the be strong stay strong fund set help nicole michael gross along nicoles sister erika severely injured bomb stood near finish line boston marathon donate be strong stay strong fund lu lingzi scholarship fund trustees boston university create scholarship fund name lu lingzi chinese graduate student tragically die attack you donate fund also post message support family dedicate website donate lu lingzi fund utilize social medium people often turn twitter quick way connect if boston area look organization seek volunteer far away want keep way help follow hashtag bostonhelp twitter you also keep us cnnimpact impact your world facebook well website \n",
            "Original summary: the city of boston has established one fund boston to raise money for victims the red cross has several programs and information about dealing with an emotional crisis the salvation army is providing food and pastoral care numerous crowdfunding campaigns for individual victims \n",
            "Generated summary: \n",
            "\n",
            "\n",
            "Article: london england irish football official lodge official complaint world ruling body fifa thierry henry confess handle ball buildup goal sent france next summer world cup television camera show henry guide ball hand twice william gallas score result cross give les bleus narrow win twolegged world cup playoff republic ireland i honest it handball i referee barcelona striker told reporter match paris the irish justice ministry confirm cnn dermot ahern ask football association ireland fai demand replay interest fair play thierry henry admit handle ball claim told ref handle millions people worldwide saw blatant double handball mention double offside put power cozy world fifa spot demand replay ahern say statement sent cnn they probably wont grant minnow world football let put spot its least owe thousand devastate young fan around country otherwise result remains reinforces view cheat win the fai later confirm take matter fifa i really believe integrity game question last night chief executive john delaney told reporter the govern body world football step plate accede call replay delaney say fai also write french football federation they need look situation henry captain wonderful footballer want like diego maradona legacy handball goal get world cup unjust manner if qualify manner i wouldnt happy say it people govern game every time i go fifa congress i hear fair play integrity this define game whole world watch fifa believe fair play integrity opportunity step forward the fai argue precedent result struck follow fifas ruling uzbekistan replay playoff bahrain 2006 world cup germany referee make mistake award penalty the football association ireland hop fifa disciplinary committee behalf football fan worldwide act similar fashion standard fair play integrity protect fai say fifa confirm receive irish request replay give timescale decision however say regulation referee decision change law 5 state decision referee regard fact connect play include whether goal score result match final say the referee may change decision realise incorrect discretion advice assistant referee fourth official provide restart play terminate match irish captain richard dunne spoke henry final whistle say felt cheat goal he admit handle doesnt make feel well go world cup final defender say fifa probably happy yet big decision go big team footballs international govern body face criticism several irish player seed system playoff draw favor powerful nation france blog when fifa see whats star face dunnes teammate robbie keane admit hard speak struggle come term result with way played certainly deserve win game kill us near end handball quote fai web site say ive see replay knew anyway handball you could see reaction player especially shay given two yard away you dont get reaction like it clear handball he henry almost caught ball actually ran net were devastate ireland team manager giovanni trapattoni told reporter referee time ask linesman henry it would first time player would ask would turn we angry italian continued it bitter even i would prefer go penalty fanzone five football famous injustice but former france international david ginola emphatic henry own you dont told cnn henry job you cant blame everything could team country get south africa but shame finish game like ireland played well referees need help pitch allow thing like obviously referee wellpositioned couldnt see english referees union chief alan leighton told cnn swedish official martin hansson clearly miss huge decision i think incident instinct deliberately attempt cheat seem ball hit hand twice therefore issue but wider issue cheat leighton say it well blame referee spot fundamentally start player i think player think game think reputation game reputation say look actually line cross \n",
            "Original summary: of ireland officials lodge official complaint with world ruling body fifa new fai also writes to french counterparts asking for world cup playoff to be replayed cameras showed frances thierry henry guiding ball with his hand twice before william gallas scored exfrance player david ginola said henry was only doing his job for his country and should not be blamed \n",
            "Generated summary:  is the first the first cristiano ronaldo of the world cup the m and the francisco of the francisco and the francisco and economies and jean price in the united and jean the team and alltime casals in the own match\n",
            "\n",
            "\n"
          ],
          "name": "stdout"
        }
      ]
    }
  ]
}